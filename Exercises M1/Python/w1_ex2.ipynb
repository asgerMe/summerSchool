{
 "cells": [
  {
   "cell_type": "markdown",
   "metadata": {},
   "source": [
    "## Imports"
   ]
  },
  {
   "cell_type": "code",
   "execution_count": null,
   "metadata": {},
   "outputs": [],
   "source": [
    "# To embed plots in the notebooks\n",
    "%matplotlib inline\n",
    "import matplotlib.pyplot as plt\n",
    "\n",
    "import numpy as np # numpy library\n",
    "import scipy . linalg as lng # linear algebra from scipy library\n",
    "from scipy . spatial import distance # load distance function\n",
    "from sklearn import preprocessing as preproc # load preprocessing function\n",
    "\n",
    "# seaborn can be used to \"prettify\" default matplotlib plots by importing and setting as default\n",
    "import seaborn as sns\n",
    "sns.set() # Set searborn as default"
   ]
  },
  {
   "cell_type": "markdown",
   "metadata": {},
   "source": [
    "## Load dataset"
   ]
  },
  {
   "cell_type": "code",
   "execution_count": null,
   "metadata": {},
   "outputs": [],
   "source": [
    "diabetPath = './DiabetesDataNormalized.txt'\n"
   ]
  },
  {
   "cell_type": "markdown",
   "metadata": {},
   "source": [
    "## 2 Examine Bias and Variance for the OLS:\n",
    "\n",
    "> (a) Investigate the unbiasedness of OLS using simulated data as follows."
   ]
  },
  {
   "cell_type": "markdown",
   "metadata": {},
   "source": [
    ">> (i) Create a random matrix ${\\bf X}$ consisting of three random variables which are NID, with $X ∼ N ({\\bf 0}, {\\bf I})$ and sample 10 observations from each.\n",
    "\n",
    ">> (ii) Create the true regression parameters $β_{true} = [1, 2, 3]^T$.\n",
    "\n",
    ">> (iii) Create the response y by the linear model ${\\bf y} = {\\bf X}β + {\\bf ε}$. Make sure the errors ε are homoscedastic and zero-mean $ε ∼ N(0,σ^2)$, where $σ^2$ denotes the noise level in the simulated data.\n",
    "\n",
    ">> (iv) Estimate the regression coefficients $β$ from this data"
   ]
  },
  {
   "cell_type": "code",
   "execution_count": null,
   "metadata": {},
   "outputs": [],
   "source": [
    "\n",
    "# Create a function that takes n and p as parameters and returns an estimate of the betas\n",
    "def estimate_betas(n, p, beta_true, sigma):\n",
    "    \"\"\"\n",
    "\n",
    "    Parameters:\n",
    "    n (int): number of observations\n",
    "    p (int): number of features\n",
    "    true_betas (array): array of ture betas\n",
    "\n",
    "    Returns:\n",
    "    true_betas: the estimated betas\n",
    "\n",
    "   \"\"\"\n",
    "    # Create a feature matrix either using np.random.normal or np.rand.randn\n",
    "\n",
    "    # Estimate of beta\n",
    "\n",
    "# define true betas, n and p, and sigma\n",
    "\n",
    "beta = estimate_betas(n, p, beta_true, sigma)\n",
    "print (f'Estimated betas:{beta}')"
   ]
  },
  {
   "cell_type": "markdown",
   "metadata": {},
   "source": [
    ">> (v) Repeat steps (iii)-(iv) 100 times."
   ]
  },
  {
   "cell_type": "code",
   "execution_count": null,
   "metadata": {},
   "outputs": [],
   "source": [
    "# call the method you just created 100 times and save the estimated betas"
   ]
  },
  {
   "cell_type": "markdown",
   "metadata": {},
   "source": [
    ">> (vi) Use meaningful plots to investigate bias and variance for the model. Experiment with different noise levels $σ^2$. "
   ]
  },
  {
   "cell_type": "code",
   "execution_count": null,
   "metadata": {},
   "outputs": [],
   "source": [
    "# Investigate the betas that you have estimated from experiments with \n",
    "# different noise levels"
   ]
  }
 ],
 "metadata": {
  "kernelspec": {
   "display_name": "Python 3",
   "language": "python",
   "name": "python3"
  },
  "language_info": {
   "codemirror_mode": {
    "name": "ipython",
    "version": 3
   },
   "file_extension": ".py",
   "mimetype": "text/x-python",
   "name": "python",
   "nbconvert_exporter": "python",
   "pygments_lexer": "ipython3",
   "version": "3.7.4"
  }
 },
 "nbformat": 4,
 "nbformat_minor": 2
}
